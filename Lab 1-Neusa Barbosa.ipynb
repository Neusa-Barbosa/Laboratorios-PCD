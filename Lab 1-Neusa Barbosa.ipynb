{
 "cells": [
  {
   "cell_type": "code",
   "execution_count": null,
   "metadata": {},
   "outputs": [],
   "source": [
    "# Verify if a value is integer"
   ]
  },
  {
   "cell_type": "code",
   "execution_count": null,
   "metadata": {},
   "outputs": [],
   "source": [
    "x = int(input(\"Introduza um numero: \"))\n",
    "if type(x) == int:\n",
    "    print (\"É inteiro\")"
   ]
  },
  {
   "cell_type": "code",
   "execution_count": null,
   "metadata": {},
   "outputs": [],
   "source": [
    "#Verify if a value is even"
   ]
  },
  {
   "cell_type": "code",
   "execution_count": 16,
   "metadata": {},
   "outputs": [
    {
     "ename": "IndentationError",
     "evalue": "unexpected indent (<ipython-input-16-316c867ceb5d>, line 2)",
     "output_type": "error",
     "traceback": [
      "\u001b[1;36m  File \u001b[1;32m\"<ipython-input-16-316c867ceb5d>\"\u001b[1;36m, line \u001b[1;32m2\u001b[0m\n\u001b[1;33m    if (num % 2) == 0:\u001b[0m\n\u001b[1;37m    ^\u001b[0m\n\u001b[1;31mIndentationError\u001b[0m\u001b[1;31m:\u001b[0m unexpected indent\n"
     ]
    }
   ],
   "source": [
    "num = int (input (\"Digite um numero:\"))\n",
    " if (num % 2) == 0:  \n",
    "   print (\"{0} is Even number\".format(num))  \n",
    "else:  \n",
    "   print (\"{0} is Odd number\".format(num))  \n"
   ]
  },
  {
   "cell_type": "code",
   "execution_count": 11,
   "metadata": {},
   "outputs": [],
   "source": [
    "#3) Insert two numbers. Is the first is bigger than the second?"
   ]
  },
  {
   "cell_type": "code",
   "execution_count": null,
   "metadata": {},
   "outputs": [],
   "source": [
    "x = int(input(\"Introduza um número: \"))\n",
    "y = int(input(\"Introduza um 2º número\"))\n",
    "if x > y:\n",
    "    print(\"O primeiro número é maior\")\n",
    "    elif x == y:\n",
    "        print(\"são iguais\")\n",
    "        else:\n",
    "            print(\"o 2º número é maior\")"
   ]
  },
  {
   "cell_type": "code",
   "execution_count": null,
   "metadata": {},
   "outputs": [],
   "source": [
    "# 4) Verify if one value is multiple of another"
   ]
  },
  {
   "cell_type": "code",
   "execution_count": 4,
   "metadata": {},
   "outputs": [
    {
     "ename": "IndentationError",
     "evalue": "unexpected indent (<ipython-input-4-e0b5650addd4>, line 5)",
     "output_type": "error",
     "traceback": [
      "\u001b[1;36m  File \u001b[1;32m\"<ipython-input-4-e0b5650addd4>\"\u001b[1;36m, line \u001b[1;32m5\u001b[0m\n\u001b[1;33m    else:\u001b[0m\n\u001b[1;37m    ^\u001b[0m\n\u001b[1;31mIndentationError\u001b[0m\u001b[1;31m:\u001b[0m unexpected indent\n"
     ]
    }
   ],
   "source": [
    "x = int(input(\"Introduza um número: \"))\n",
    "y = int(input(\"Introduza o 2º número: \"))\n",
    "if x%y== 0:\n",
    "    print(\"É multiplo\")\n",
    "     else:\n",
    "        print(\"Não é Multiplo\")"
   ]
  },
  {
   "cell_type": "code",
   "execution_count": null,
   "metadata": {},
   "outputs": [],
   "source": []
  },
  {
   "cell_type": "code",
   "execution_count": 5,
   "metadata": {},
   "outputs": [],
   "source": [
    "#5) Calculate the interest earn by an investor that invested a capital of 200 during 3 years with an interest rate of 3%. (I= P*R*T)"
   ]
  },
  {
   "cell_type": "code",
   "execution_count": 6,
   "metadata": {},
   "outputs": [
    {
     "ename": "NameError",
     "evalue": "name 'capital' is not defined",
     "output_type": "error",
     "traceback": [
      "\u001b[1;31m---------------------------------------------------------------------------\u001b[0m",
      "\u001b[1;31mNameError\u001b[0m                                 Traceback (most recent call last)",
      "\u001b[1;32m<ipython-input-6-c900a5c6375d>\u001b[0m in \u001b[0;36m<module>\u001b[1;34m\u001b[0m\n\u001b[0;32m      3\u001b[0m \u001b[0mtaxa\u001b[0m \u001b[1;33m=\u001b[0m \u001b[1;36m3\u001b[0m\u001b[1;33m\u001b[0m\u001b[1;33m\u001b[0m\u001b[0m\n\u001b[0;32m      4\u001b[0m \u001b[1;33m\u001b[0m\u001b[0m\n\u001b[1;32m----> 5\u001b[1;33m \u001b[0mvalor\u001b[0m \u001b[1;33m=\u001b[0m \u001b[0mcapital\u001b[0m \u001b[1;33m*\u001b[0m \u001b[0mano\u001b[0m \u001b[1;33m*\u001b[0m \u001b[0mtaxa\u001b[0m\u001b[1;33m\u001b[0m\u001b[1;33m\u001b[0m\u001b[0m\n\u001b[0m\u001b[0;32m      6\u001b[0m \u001b[0mprint\u001b[0m\u001b[1;33m(\u001b[0m\u001b[0mvalor\u001b[0m\u001b[1;33m)\u001b[0m\u001b[1;33m\u001b[0m\u001b[1;33m\u001b[0m\u001b[0m\n",
      "\u001b[1;31mNameError\u001b[0m: name 'capital' is not defined"
     ]
    }
   ],
   "source": [
    "Capital = 200\n",
    "ano = 3 \n",
    "taxa = 3 \n",
    "\n",
    "valor = capital * ano * taxa\n",
    "print(valor)"
   ]
  },
  {
   "cell_type": "code",
   "execution_count": 7,
   "metadata": {},
   "outputs": [],
   "source": [
    "#6) Capital that an investor obtained after investing a capital of 200 during 3 years with an interest rate of 3%. (Compound interest)"
   ]
  },
  {
   "cell_type": "code",
   "execution_count": null,
   "metadata": {
    "collapsed": true,
    "jupyter": {
     "outputs_hidden": true
    }
   },
   "outputs": [],
   "source": [
    "capital = 200\n",
    "ano = 3\n",
    "taxa = 0.03\n",
    "valor = (capital * ano * taxa)\n",
    "print(valor)"
   ]
  },
  {
   "cell_type": "code",
   "execution_count": null,
   "metadata": {},
   "outputs": [],
   "source": [
    "# 7) Calculate your BMI (Body Mass Index)"
   ]
  },
  {
   "cell_type": "code",
   "execution_count": 3,
   "metadata": {},
   "outputs": [
    {
     "name": "stdout",
     "output_type": "stream",
     "text": [
      "20.519134092541297\n"
     ]
    }
   ],
   "source": [
    "peso=60\n",
    "altura=1.71\n",
    "IMC = (peso)/(altura**2)\n",
    "print(IMC)"
   ]
  },
  {
   "cell_type": "code",
   "execution_count": null,
   "metadata": {},
   "outputs": [],
   "source": [
    "# 8) Calcule the Golden ration:\n",
    "#1. Solve the problem without using libraries 2. Use module math (import math) and function sqr (math.sqrt)"
   ]
  },
  {
   "cell_type": "code",
   "execution_count": 2,
   "metadata": {},
   "outputs": [
    {
     "name": "stdout",
     "output_type": "stream",
     "text": [
      "1.618033988749895\n"
     ]
    }
   ],
   "source": [
    "from math import sqrt\n",
    "golden = (1 + sqrt(5))/2\n",
    "print(golden)"
   ]
  },
  {
   "cell_type": "code",
   "execution_count": null,
   "metadata": {},
   "outputs": [],
   "source": [
    "# 9) Calculete the NPV (Net present value) of an investment, considering an initial investment of 10000, the following Cashflows 2000,3000, 4000, 4000 and 5000 and a discount rate of 10%.\n",
    "\n",
    "#Where:\n",
    "#FV = Future cost of the cash inflows, I = Initial Investment k = Discount rate equal to the owner’s cost of capital\n"
   ]
  },
  {
   "cell_type": "code",
   "execution_count": null,
   "metadata": {},
   "outputs": [],
   "source": [
    "from datetime import date\n",
    "today = date.today()\n",
    "ano = 1998\n",
    "anos = today.year -1998\n",
    "print(anos)"
   ]
  },
  {
   "cell_type": "code",
   "execution_count": null,
   "metadata": {},
   "outputs": [],
   "source": [
    "#10) Ask the user to insert name and age. Calculate the the birth. Print a result saying the 'this person was born in'\n",
    "#1. Solve the problem without using modules and libraries \n",
    "#2. Solve the problem using the date library from module datetime, as fallow:\n",
    "#from datetime import date   today = date.today()   today.year"
   ]
  },
  {
   "cell_type": "code",
   "execution_count": null,
   "metadata": {},
   "outputs": [],
   "source": [
    "#Solve the problem without using modules and libraries\n",
    "Nome = input(\"Inserir nome: \")\n",
    "Idade = input(\"Inserir idade: \")\n",
    "\n",
    "Aniversario = 2019 - int(Idade)\n",
    "\n",
    "print(str(Nome) + \" was born in \" + str(Aniversario))\n",
    "\n",
    "#Solve the problem using the date library from module datetime, as fallow:\n",
    "\n",
    "from datetime import date   \n",
    "today = date.today()\n",
    "today.year\n",
    "\n",
    "Idade = input(\"inserir idade: \")\n",
    "\n",
    "Idade = int(today.year) - int(Idade)\n",
    "print(Idade)"
   ]
  },
  {
   "cell_type": "code",
   "execution_count": 17,
   "metadata": {},
   "outputs": [
    {
     "data": {
      "text/plain": [
       "2019"
      ]
     },
     "execution_count": 17,
     "metadata": {},
     "output_type": "execute_result"
    }
   ],
   "source": [
    "from datetime import date   \n",
    "today = date.today()  \n",
    "today.year\n"
   ]
  },
  {
   "cell_type": "code",
   "execution_count": null,
   "metadata": {},
   "outputs": [],
   "source": [
    "#11) Ask the user to insert forenames, surnames. create a new variable (name) with your complete name.\n",
    "#Create the follwoing variables:\n",
    "#nameBig, where all the characters of the name are capitalized \n",
    "#nameTitle, where the only the first character of each name (word) iscapitalized \n",
    "#nameSmall, where all the characters of the name are lower \n",
    "#nameCapitalized, where only the first charater of the first name is capitalized\n"
   ]
  },
  {
   "cell_type": "code",
   "execution_count": null,
   "metadata": {},
   "outputs": [],
   "source": [
    "name = input(\"Inserir nome: \")\n",
    "name.upper()\n",
    "print(name.upper())\n",
    "\n",
    "name = input(\"Insert your name: \")\n",
    "print(name.title())\n",
    "\n",
    "name = input(\"Insert your name: \")\n",
    "print(name.lower())\n",
    "\n",
    "name = input(\"Insert your name: \")\n",
    "CAP = name.capitalize()\n",
    "print(CAP)"
   ]
  },
  {
   "cell_type": "code",
   "execution_count": null,
   "metadata": {},
   "outputs": [],
   "source": [
    "#12) Supopose thata your name is stored in the variable name. Use the follwoing method to show where in which carater appears the firs \"da\"."
   ]
  },
  {
   "cell_type": "code",
   "execution_count": null,
   "metadata": {},
   "outputs": [],
   "source": [
    "\n",
    "nome = input(\"Inserir nome: \")\n",
    "print(nome.find(\"da\"))"
   ]
  },
  {
   "cell_type": "code",
   "execution_count": null,
   "metadata": {},
   "outputs": [],
   "source": []
  },
  {
   "cell_type": "code",
   "execution_count": null,
   "metadata": {},
   "outputs": [],
   "source": []
  }
 ],
 "metadata": {
  "kernelspec": {
   "display_name": "Python 3",
   "language": "python",
   "name": "python3"
  },
  "language_info": {
   "codemirror_mode": {
    "name": "ipython",
    "version": 3
   },
   "file_extension": ".py",
   "mimetype": "text/x-python",
   "name": "python",
   "nbconvert_exporter": "python",
   "pygments_lexer": "ipython3",
   "version": "3.7.3"
  }
 },
 "nbformat": 4,
 "nbformat_minor": 4
}
