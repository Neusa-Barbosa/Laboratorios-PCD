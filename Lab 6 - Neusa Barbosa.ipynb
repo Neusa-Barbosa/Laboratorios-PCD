{
 "cells": [
  {
   "cell_type": "markdown",
   "metadata": {},
   "source": [
    "Lab 6\n",
    "calculate NPV. The rate is a float and the cash flows and investment are in a list.\n",
    "create a function called NPV to calculate NPV\n",
    "create a function to calcule IRR. In order to calculate IRR you may aproximate the follwoing\n",
    "expression: rate= rate*(1-NPV(CFList, rate)/invest)\n",
    "create a function for payback period"
   ]
  },
  {
   "cell_type": "code",
   "execution_count": 2,
   "metadata": {},
   "outputs": [
    {
     "name": "stdout",
     "output_type": "stream",
     "text": [
      "1395.3732476235487\n"
     ]
    }
   ],
   "source": [
    "#1. calculate NPV. The rate is a float and the cash flows and investment are in a list.\n",
    "#Supose you have the follwoing cashflow\n",
    "\n",
    "CFList=[100, 200, 300, 400,500] \n",
    "rate= 0.02\n",
    "sum = 0\n",
    "t = 0\n",
    "for x in CFList:\n",
    "    t = t+1\n",
    "    NPV = float(x) / (1+rate)**t\n",
    "    sum = sum + NPV\n",
    "print(sum)\n"
   ]
  },
  {
   "cell_type": "code",
   "execution_count": 3,
   "metadata": {},
   "outputs": [
    {
     "data": {
      "text/plain": [
       "1300.6492261502372"
      ]
     },
     "execution_count": 3,
     "metadata": {},
     "output_type": "execute_result"
    }
   ],
   "source": [
    "#2.create a function called NPV to calculate NPV\n",
    "\n",
    "def NPV (rate, CFList):\n",
    "    rate = rate/100\n",
    "    sum = 0\n",
    "    t=0\n",
    "    for x in CFList:\n",
    "        t = t+1\n",
    "        pv = float(x)/(1+rate)**t\n",
    "        sum = sum + pv\n",
    "    return(sum)    \n",
    "#print(NPV(CFList, rate))\n",
    "NPV(4, [100, 200, 300, 400, 500])"
   ]
  },
  {
   "cell_type": "code",
   "execution_count": 10,
   "metadata": {},
   "outputs": [],
   "source": [
    "#create a function to calcule IRR. In order to calculate IRR you may aproximate the follwoing \n",
    "#expression: rate= rate*(1-NPV(CFList, rate)/invest)\n",
    "\n",
    "def IRR(cashflows, ini_investment):\n",
    "    \n",
    "    print(IRR(CFList))\n",
    "    "
   ]
  },
  {
   "cell_type": "code",
   "execution_count": 9,
   "metadata": {},
   "outputs": [
    {
     "ename": "SyntaxError",
     "evalue": "unexpected EOF while parsing (<ipython-input-9-3111647fdb25>, line 3)",
     "output_type": "error",
     "traceback": [
      "\u001b[1;36m  File \u001b[1;32m\"<ipython-input-9-3111647fdb25>\"\u001b[1;36m, line \u001b[1;32m3\u001b[0m\n\u001b[1;33m    def payback():\u001b[0m\n\u001b[1;37m                  ^\u001b[0m\n\u001b[1;31mSyntaxError\u001b[0m\u001b[1;31m:\u001b[0m unexpected EOF while parsing\n"
     ]
    }
   ],
   "source": [
    "#create a function for payback period\n",
    "\n",
    "def payback():"
   ]
  },
  {
   "cell_type": "code",
   "execution_count": null,
   "metadata": {},
   "outputs": [],
   "source": []
  }
 ],
 "metadata": {
  "kernelspec": {
   "display_name": "Python 3",
   "language": "python",
   "name": "python3"
  },
  "language_info": {
   "codemirror_mode": {
    "name": "ipython",
    "version": 3
   },
   "file_extension": ".py",
   "mimetype": "text/x-python",
   "name": "python",
   "nbconvert_exporter": "python",
   "pygments_lexer": "ipython3",
   "version": "3.7.3"
  }
 },
 "nbformat": 4,
 "nbformat_minor": 2
}
