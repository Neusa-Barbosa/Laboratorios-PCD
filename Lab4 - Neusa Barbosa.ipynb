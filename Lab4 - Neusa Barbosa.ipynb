{
 "cells": [
  {
   "cell_type": "code",
   "execution_count": null,
   "metadata": {},
   "outputs": [],
   "source": [
    "#1) Ask the user to insert his name and age. Then, calculate his birth year.\n",
    "\n",
    "nome=input(\"Introduzir nome:\")\n",
    "print(nome)\n",
    "idade = int(input(\"Qual a tua idade? \"))\n",
    "print(idade)\n",
    "\n",
    "dataNascimento=1995\n",
    "idade=2020 - dataNascimento\n",
    "print(idade)\n",
    "\n",
    "    "
   ]
  },
  {
   "cell_type": "code",
   "execution_count": 5,
   "metadata": {},
   "outputs": [],
   "source": [
    "#2) Ask the user to insert a text. The program will always answer \"yes\". The conversation will be \n",
    "#closed when the user says \"bye\"."
   ]
  },
  {
   "cell_type": "code",
   "execution_count": null,
   "metadata": {},
   "outputs": [],
   "source": [
    "def called():\n",
    "    question = input(\"What is your problem? \")\n",
    "    while question == \"\":\n",
    "        print(\"What is your problem? \")\n",
    "        question = input(\"What is your problem? \")\n",
    "    print(\"yes of course\")\n",
    "    \n",
    "called()"
   ]
  },
  {
   "cell_type": "code",
   "execution_count": null,
   "metadata": {},
   "outputs": [],
   "source": [
    "#3) Create a function for a greeting"
   ]
  },
  {
   "cell_type": "code",
   "execution_count": null,
   "metadata": {},
   "outputs": [],
   "source": [
    "def greet ():\n",
    "# greeting\n",
    "print (\"Hello!\")"
   ]
  },
  {
   "cell_type": "code",
   "execution_count": null,
   "metadata": {},
   "outputs": [],
   "source": [
    "#4) Call greeting function at the beginning of the conversation."
   ]
  },
  {
   "cell_type": "code",
   "execution_count": null,
   "metadata": {},
   "outputs": [
    {
     "name": "stdout",
     "output_type": "stream",
     "text": [
      "computer: Hi! What is your name?SOFIA\n"
     ]
    }
   ],
   "source": [
    "import random\n",
    "def together():\n",
    "    nome = input(\"computer: Hi! What is your name?\")\n",
    "    \n",
    "    possible_answers = [\"Hello\", \"Goodbye\", \"Fine\", \"I dont care\", \"What can I do for you?\", \"I will help you\"]\n",
    "    \n",
    "    while nome == \"\":\n",
    "        print(\"You dont have a name. Shame on you.\")\n",
    "        nome = input(\"computer: Hi! What is your name?\")\n",
    "    ask = input(\"What is your problem? \")\n",
    "    \n",
    "    while ask ==\"\":\n",
    "        print(\"You dont have any problems.\")\n",
    "        ask = input(\"What is your problem? \")\n",
    "    print(random.sample(possible_answers, k=1))\n",
    "\n",
    "together()\n"
   ]
  },
  {
   "cell_type": "code",
   "execution_count": null,
   "metadata": {},
   "outputs": [],
   "source": [
    "#5) Improve your chatbot"
   ]
  },
  {
   "cell_type": "code",
   "execution_count": null,
   "metadata": {},
   "outputs": [],
   "source": [
    "import random\n",
    "def chat():\n",
    "    ask = input(\"What is your problem? \")\n",
    "    possible_answers = [\"Hello\", \"Goodbye\", \"Fine\", \"I dont care\", \"What can I do for you?\", \"I will help you\"]\n",
    "    \n",
    "    while ask == \"\":\n",
    "        print(\"You dont have any problems.\")\n",
    "        ask = input(\"What is your problem? \")\n",
    "    print(random.sample(possible_answers, k=1))\n",
    "\n",
    "chat()"
   ]
  },
  {
   "cell_type": "code",
   "execution_count": null,
   "metadata": {},
   "outputs": [],
   "source": [
    "\n"
   ]
  }
 ],
 "metadata": {
  "kernelspec": {
   "display_name": "Python 3",
   "language": "python",
   "name": "python3"
  },
  "language_info": {
   "codemirror_mode": {
    "name": "ipython",
    "version": 3
   },
   "file_extension": ".py",
   "mimetype": "text/x-python",
   "name": "python",
   "nbconvert_exporter": "python",
   "pygments_lexer": "ipython3",
   "version": "3.7.3"
  }
 },
 "nbformat": 4,
 "nbformat_minor": 2
}
